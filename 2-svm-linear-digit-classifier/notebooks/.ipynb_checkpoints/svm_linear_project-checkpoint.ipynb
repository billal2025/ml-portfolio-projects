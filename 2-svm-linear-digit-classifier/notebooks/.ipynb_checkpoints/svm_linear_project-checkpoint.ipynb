{
 "cells": [
  {
   "cell_type": "code",
   "execution_count": 1,
   "id": "265fd205-602c-40bf-8e0e-d155b7fd9422",
   "metadata": {},
   "outputs": [
    {
     "name": "stdout",
     "output_type": "stream",
     "text": [
      "Accuracy: 0.9838565022421525\n",
      "\n",
      "Classification Report:\n",
      "               precision    recall  f1-score   support\n",
      "\n",
      "           0       0.98      1.00      0.99       966\n",
      "           1       0.99      0.89      0.94       149\n",
      "\n",
      "    accuracy                           0.98      1115\n",
      "   macro avg       0.99      0.94      0.96      1115\n",
      "weighted avg       0.98      0.98      0.98      1115\n",
      "\n"
     ]
    },
    {
     "data": {
      "image/png": "[encoded data removed]",
      "text/plain": [
       "<Figure size 640x480 with 2 Axes>"
      ]
     },
     "metadata": {},
     "output_type": "display_data"
    },
    {
     "name": "stdout",
     "output_type": "stream",
     "text": [
      "Message: 'Congratulations, you won a $1000 Walmart gift card!' => SPAM\n",
      "Message: 'Hey, are we still on for lunch today?' => HAM\n",
      "The Linear SVM performs well on SMS spam classification. TF-IDF helped reduce noise and focus on relevant terms.\n"
     ]
    }
   ],
   "source": [
    "# SMS Spam Detection with Linear SVM\n",
    "\n",
    "## 1. Imports\n",
    "import pandas as pd\n",
    "import numpy as np\n",
    "import matplotlib.pyplot as plt\n",
    "import seaborn as sns\n",
    "\n",
    "from sklearn.model_selection import train_test_split\n",
    "from sklearn.feature_extraction.text import TfidfVectorizer\n",
    "from sklearn.svm import LinearSVC\n",
    "from sklearn.metrics import classification_report, confusion_matrix, accuracy_score\n",
    "\n",
    "## 2. Load Data\n",
    "df = pd.read_csv(\"spam.csv\", encoding=\"latin-1\")[[\"v1\", \"v2\"]]\n",
    "df.columns = [\"label\", \"text\"]\n",
    "df.head()\n",
    "\n",
    "## 3. Encode Labels\n",
    "df[\"label\"] = df[\"label\"].map({\"ham\": 0, \"spam\": 1})\n",
    "\n",
    "## 4. Train/Test Split\n",
    "X_train, X_test, y_train, y_test = train_test_split(\n",
    "    df[\"text\"], df[\"label\"], test_size=0.2, random_state=42, stratify=df[\"label\"]\n",
    ")\n",
    "\n",
    "## 5. Text Vectorization\n",
    "vectorizer = TfidfVectorizer(stop_words=\"english\", max_df=0.95)\n",
    "X_train_tfidf = vectorizer.fit_transform(X_train)\n",
    "X_test_tfidf = vectorizer.transform(X_test)\n",
    "\n",
    "## 6. Train Linear SVM\n",
    "model = LinearSVC()\n",
    "model.fit(X_train_tfidf, y_train)\n",
    "\n",
    "## 7. Predictions\n",
    "y_pred = model.predict(X_test_tfidf)\n",
    "\n",
    "## 8. Evaluation\n",
    "print(\"Accuracy:\", accuracy_score(y_test, y_pred))\n",
    "print(\"\\nClassification Report:\\n\", classification_report(y_test, y_pred))\n",
    "\n",
    "# Confusion Matrix\n",
    "sns.heatmap(confusion_matrix(y_test, y_pred), annot=True, fmt='d', cmap='Purples')\n",
    "plt.title(\"Confusion Matrix\")\n",
    "plt.xlabel(\"Predicted\")\n",
    "plt.ylabel(\"Actual\")\n",
    "plt.show()\n",
    "\n",
    "## 9. Example Predictions\n",
    "examples = [\"Congratulations, you won a $1000 Walmart gift card!\", \n",
    "            \"Hey, are we still on for lunch today?\"]\n",
    "\n",
    "example_vec = vectorizer.transform(examples)\n",
    "predictions = model.predict(example_vec)\n",
    "\n",
    "for msg, pred in zip(examples, predictions):\n",
    "    print(f\"Message: '{msg}' => {'SPAM' if pred else 'HAM'}\")\n",
    "\n",
    "## 10. Conclusion\n",
    "print(\"The Linear SVM performs well on SMS spam classification. TF-IDF helped reduce noise and focus on relevant terms.\")\n"
   ]
  },
  {
   "cell_type": "code",
   "execution_count": null,
   "id": "efeceb55-5b84-48f7-abd6-060c94d4e197",
   "metadata": {},
   "outputs": [],
   "source": []
  }
 ],
 "metadata": {
  "kernelspec": {
   "display_name": "Python 3 (ipykernel)",
   "language": "python",
   "name": "python3"
  },
  "language_info": {
   "codemirror_mode": {
    "name": "ipython",
    "version": 3
   },
   "file_extension": ".py",
   "mimetype": "text/x-python",
   "name": "python",
   "nbconvert_exporter": "python",
   "pygments_lexer": "ipython3",
   "version": "3.10.0"
  }
 },
 "nbformat": 4,
 "nbformat_minor": 5
}
